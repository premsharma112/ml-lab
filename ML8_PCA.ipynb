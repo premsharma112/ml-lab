{
  "nbformat": 4,
  "nbformat_minor": 0,
  "metadata": {
    "colab": {
      "provenance": []
    },
    "kernelspec": {
      "name": "python3",
      "display_name": "Python 3"
    },
    "language_info": {
      "name": "python"
    }
  },
  "cells": [
    {
      "cell_type": "markdown",
      "source": [
        "Principle Component Analysis on a given dataset, containing two feaatures, X having values 4, 8, 13, 7 and Y having values 11, 4, 5, 14"
      ],
      "metadata": {
        "id": "My_MlTG0MKtf"
      }
    },
    {
      "cell_type": "code",
      "source": [
        "import numpy as np\n",
        "\n",
        "# Step 1: Define the dataset\n",
        "X = np.array([4, 8, 13, 7])\n",
        "Y = np.array([11, 4, 5, 14])\n",
        "\n",
        "# Step 2: Construct the data matrix\n",
        "data = np.vstack((X, Y)).T  # Shape (4,2)\n",
        "\n",
        "# Step 3: Compute the mean of each feature\n",
        "mean_X = np.mean(X)\n",
        "mean_Y = np.mean(Y)\n",
        "mean_vector = np.array([mean_X, mean_Y])\n",
        "\n",
        "# Step 4: Center the data (subtract mean)\n",
        "centered_data = data - mean_vector\n",
        "\n",
        "# Step 5: Compute the covariance matrix\n",
        "cov_matrix = (centered_data.T @ centered_data) / (len(X) - 1)\n",
        "\n",
        "# Step 6: Compute the eigenvalues and eigenvectors\n",
        "eig_values, eig_vectors = np.linalg.eig(cov_matrix)\n",
        "\n",
        "# Step 7: Sort eigenvalues and eigenvectors\n",
        "sorted_indices = np.argsort(eig_values)[::-1]\n",
        "eig_values = eig_values[sorted_indices]\n",
        "eig_vectors = eig_vectors[:, sorted_indices]\n",
        "\n",
        "# Step 8: Project data onto the principal components\n",
        "projected_data = centered_data @ eig_vectors\n",
        "\n",
        "# Display results\n",
        "print(\"Mean Vector:\", mean_vector)\n",
        "print(\"Covariance Matrix:\\n\", cov_matrix)\n",
        "print(\"Eigenvalues:\", eig_values)\n",
        "print(\"Eigenvectors:\\n\", eig_vectors)\n",
        "print(\"Projected Data:\\n\", projected_data)"
      ],
      "metadata": {
        "colab": {
          "base_uri": "https://localhost:8080/"
        },
        "id": "vuQaiyZZOMd8",
        "outputId": "5eabb822-2f93-4dc9-a20e-e88d3989b502"
      },
      "execution_count": 3,
      "outputs": [
        {
          "output_type": "stream",
          "name": "stdout",
          "text": [
            "Mean Vector: [8.  8.5]\n",
            "Covariance Matrix:\n",
            " [[ 14. -11.]\n",
            " [-11.  23.]]\n",
            "Eigenvalues: [30.38486432  6.61513568]\n",
            "Eigenvectors:\n",
            " [[ 0.55738997 -0.83025082]\n",
            " [-0.83025082 -0.55738997]]\n",
            "Projected Data:\n",
            " [[-4.30518692  1.92752836]\n",
            " [ 3.73612869  2.50825486]\n",
            " [ 5.69282771 -2.20038921]\n",
            " [-5.12376947 -2.23539401]]\n"
          ]
        }
      ]
    }
  ]
}